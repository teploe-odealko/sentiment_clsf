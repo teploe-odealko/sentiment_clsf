{
 "cells": [
  {
   "cell_type": "code",
   "execution_count": 3,
   "id": "interracial-worst",
   "metadata": {},
   "outputs": [],
   "source": [
    "from kedro.config import ConfigLoader\n",
    "\n",
    "conf_paths = [\"../conf/base\"]\n",
    "conf_loader = ConfigLoader(conf_paths)\n",
    "parameters = conf_loader.get(\"parameters*\", \"parameters*/**\")"
   ]
  },
  {
   "cell_type": "code",
   "execution_count": 4,
   "id": "annual-bracelet",
   "metadata": {},
   "outputs": [
    {
     "data": {
      "text/plain": [
       "{'seed': 42,\n",
       " 'test_size': 800,\n",
       " 'min_vectorizer_freq': 30,\n",
       " 'w2v': {'epochs': 40,\n",
       "  'min_count': 3,\n",
       "  'window': 2,\n",
       "  'size': 300,\n",
       "  'sample': 6e-05,\n",
       "  'alpha': 0.03,\n",
       "  'min_alpha': 0.0007,\n",
       "  'negative': 20},\n",
       " 'k_best_features': 180}"
      ]
     },
     "execution_count": 4,
     "metadata": {},
     "output_type": "execute_result"
    }
   ],
   "source": [
    "parameters"
   ]
  }
 ],
 "metadata": {
  "kernelspec": {
   "display_name": "sentiment_clsf",
   "language": "python",
   "name": "python3"
  },
  "language_info": {
   "codemirror_mode": {
    "name": "ipython",
    "version": 3
   },
   "file_extension": ".py",
   "mimetype": "text/x-python",
   "name": "python",
   "nbconvert_exporter": "python",
   "pygments_lexer": "ipython3",
   "version": "3.7.8"
  }
 },
 "nbformat": 4,
 "nbformat_minor": 5
}
